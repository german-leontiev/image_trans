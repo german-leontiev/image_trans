{
 "cells": [
  {
   "cell_type": "markdown",
   "id": "e8f0984c",
   "metadata": {},
   "source": [
    "1. Перевод в ч/б\n",
    "2. Перевод в градации серого\n",
    "3. Повышение резкости\n",
    "4. Повышение контрастности\n",
    "5. Баланс белого\n",
    "6. Инверсия"
   ]
  },
  {
   "cell_type": "code",
   "execution_count": 1,
   "id": "f2ffbfdc",
   "metadata": {},
   "outputs": [],
   "source": [
    "filename = 'sample.jpg'\n",
    "filepath = './static/uploads/sample.jpg'"
   ]
  },
  {
   "cell_type": "code",
   "execution_count": 25,
   "id": "69338c49",
   "metadata": {},
   "outputs": [],
   "source": [
    "from PIL import Image\n",
    "import cv2\n",
    "import numpy as np"
   ]
  },
  {
   "cell_type": "code",
   "execution_count": 64,
   "id": "37066eef",
   "metadata": {},
   "outputs": [],
   "source": [
    "img_original = Image.open(filepath)"
   ]
  },
  {
   "cell_type": "code",
   "execution_count": 45,
   "id": "99883c6f",
   "metadata": {},
   "outputs": [],
   "source": [
    "def white_balance_loops(img):\n",
    "    result = cv2.cvtColor(img, cv2.COLOR_RGB2LAB)\n",
    "    avg_a = np.average(result[:, :, 1])\n",
    "    avg_b = np.average(result[:, :, 2])\n",
    "    for x in range(result.shape[0]):\n",
    "        for y in range(result.shape[1]):\n",
    "            l, a, b = result[x, y, :]\n",
    "            # fix for CV correction\n",
    "            l *= 100 / 255.0\n",
    "            result[x, y, 1] = a - ((avg_a - 128) * (l / 100.0) * 1.1)\n",
    "            result[x, y, 2] = b - ((avg_b - 128) * (l / 100.0) * 1.1)\n",
    "    result = cv2.cvtColor(result, cv2.COLOR_LAB2RGB)\n",
    "    \n",
    "    return result"
   ]
  },
  {
   "cell_type": "code",
   "execution_count": 59,
   "id": "a4ba48f3",
   "metadata": {},
   "outputs": [],
   "source": [
    "images = {}\n",
    "# Original \n",
    "images['orig'] = cv2.cvtColor(cv2.imread(filepath), cv2.COLOR_BGR2RGB)\n",
    "# Grayscale\n",
    "images['gray'] = cv2.cvtColor(img_original, cv2.COLOR_RGB2GRAY)\n",
    "# Black-white\n",
    "_, images['bw'] = cv2.threshold(img_gray, 127, 255, cv2.THRESH_BINARY)\n",
    "# Sharpness\n",
    "kernel_sharp = np.array([[-1,-1,-1], [-1,9,-1], [-1,-1,-1]])\n",
    "images['sharp'] = cv2.filter2D(img_original, -1, kernel_sharp)\n",
    "# Contrast\n",
    "alpha = 1.5 # Contrast control (1.0-3.0)\n",
    "beta = 0 # Brightness control (0-100)\n",
    "images['cont'] = cv2.convertScaleAbs(img_original, alpha=alpha, beta=beta)\n",
    "# White Balance\n",
    "images['white'] = white_balance_loops(img_original)\n",
    "# Inversion\n",
    "images['inv'] = cv2.bitwise_not(img_original)"
   ]
  },
  {
   "cell_type": "code",
   "execution_count": 62,
   "id": "1ef14426",
   "metadata": {},
   "outputs": [],
   "source": [
    "list_of_images = []\n",
    "for i_key, i_val in images.items():\n",
    "    save_path = filepath[:-len(filename)] + i_key + \"_\" + filename\n",
    "    list_of_images.append(save_path)\n",
    "    Image.fromarray(i_val).save(save_path)"
   ]
  },
  {
   "cell_type": "code",
   "execution_count": 63,
   "id": "598bbdfd",
   "metadata": {},
   "outputs": [
    {
     "data": {
      "text/plain": [
       "['./static/uploads/orig_sample.jpg',\n",
       " './static/uploads/gray_sample.jpg',\n",
       " './static/uploads/bw_sample.jpg',\n",
       " './static/uploads/sharp_sample.jpg',\n",
       " './static/uploads/cont_sample.jpg',\n",
       " './static/uploads/white_sample.jpg',\n",
       " './static/uploads/inv_sample.jpg']"
      ]
     },
     "execution_count": 63,
     "metadata": {},
     "output_type": "execute_result"
    }
   ],
   "source": [
    "list_of_images"
   ]
  }
 ],
 "metadata": {
  "kernelspec": {
   "display_name": "Python 3 (ipykernel)",
   "language": "python",
   "name": "python3"
  },
  "language_info": {
   "codemirror_mode": {
    "name": "ipython",
    "version": 3
   },
   "file_extension": ".py",
   "mimetype": "text/x-python",
   "name": "python",
   "nbconvert_exporter": "python",
   "pygments_lexer": "ipython3",
   "version": "3.9.6"
  }
 },
 "nbformat": 4,
 "nbformat_minor": 5
}
